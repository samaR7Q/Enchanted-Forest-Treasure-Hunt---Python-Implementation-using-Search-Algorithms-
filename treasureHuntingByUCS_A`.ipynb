{
 "cells": [
  {
   "cell_type": "markdown",
   "id": "cef37803",
   "metadata": {},
   "source": [
    "# TITLE\n",
    "## Enchnated forest Treasure Hunt- Python Implementation by\n",
    "### *Sammar Kaleem, 22I-2141\n",
    "### *Ali Hussain, 22I-0512"
   ]
  },
  {
   "cell_type": "markdown",
   "id": "230e0d7e",
   "metadata": {},
   "source": [
    "### Task 1\n"
   ]
  },
  {
   "cell_type": "code",
   "execution_count": null,
   "id": "45133b69",
   "metadata": {},
   "outputs": [],
   "source": [
    "import random"
   ]
  },
  {
   "cell_type": "code",
   "execution_count": null,
   "id": "f7eac5c2",
   "metadata": {},
   "outputs": [],
   "source": [
    "\n",
    "\n",
    "def addAttributes(character):\n",
    "    rand = random.choice([2,3,4])    # chosing random number of characters other than traveler\n",
    "    for i in range(rand):\n",
    "        index =  random.choice(range(rows*cols)) # Placing character at random indices\n",
    "        if ' ' == grid[index]:                   # iff there is space there (to avoid overlapping)\n",
    "            grid[index] = character\n",
    "        else:\n",
    "            i-1           # in case any other character is there place\n",
    "def makegrid(rows,cols):\n",
    "    \n",
    "    addAttributes('A')   # 'A for Animals'\n",
    "    addAttributes('|')   # '|' for Wall\n",
    "    addAttributes('-')   # '-' for Obstacles\n",
    "    print(grid)"
   ]
  },
  {
   "cell_type": "code",
   "execution_count": null,
   "id": "769e14d9",
   "metadata": {},
   "outputs": [],
   "source": [
    "rows = int(input(\"Enter Rows Of The Grid\"))\n",
    "cols = int(input(\"Enter Columns Of The Grid\"))"
   ]
  },
  {
   "cell_type": "code",
   "execution_count": null,
   "id": "163742dc",
   "metadata": {},
   "outputs": [],
   "source": [
    "choice = input(\"Press 1 for A* search, else press any key\")\n",
    "\n",
    "if isinstance(choice,str):\n",
    "    choice = 2\n",
    "choice = int(choice)"
   ]
  },
  {
   "cell_type": "code",
   "execution_count": null,
   "id": "8c41b8dd",
   "metadata": {},
   "outputs": [],
   "source": [
    "grid = [' ' for i in range(rows*cols)]   # A 1D array \n",
    "makegrid(rows,cols)"
   ]
  },
  {
   "cell_type": "code",
   "execution_count": null,
   "id": "2b300880",
   "metadata": {},
   "outputs": [],
   "source": [
    "new_grid=[]               # reshapinG the grid in 2D \n",
    "for i in range(rows):\n",
    "    temp=[]\n",
    "    for j in range(cols):\n",
    "        temp.append(grid[(i*rows)+j])\n",
    "    new_grid.append(temp)  # appending temp pieces(lists) in single outer list\n",
    "    \n",
    "new_grid\n"
   ]
  },
  {
   "cell_type": "code",
   "execution_count": null,
   "id": "7904209e",
   "metadata": {},
   "outputs": [],
   "source": [
    "new_grid[0][cols-1]='T'       # Placing startin and treasure location\n",
    "new_grid[rows-1][0]='S'\n",
    "new_grid"
   ]
  },
  {
   "cell_type": "code",
   "execution_count": null,
   "id": "565edab0",
   "metadata": {},
   "outputs": [],
   "source": [
    "test = input(\"- - Press T/t for running test cases over pre made grids - -\")   # test cases\n",
    "if isinstance(test,int):\n",
    "    test = 't'"
   ]
  },
  {
   "cell_type": "markdown",
   "id": "3c3a1bbd",
   "metadata": {},
   "source": [
    "### Test case, comment for randomly generated"
   ]
  },
  {
   "cell_type": "code",
   "execution_count": null,
   "id": "86373def",
   "metadata": {},
   "outputs": [],
   "source": [
    "if(test.lower() == 't'):\n",
    "    print(\"Press the Key for respective grid to run test case over it,\\nKeys Range from 1 to 3\")\n",
    "    key = int(input(\"-- Enter Key --\"))\n",
    "    if key ==1:\n",
    "        new_grid = [[' ', ' ', ' ', ' ', ' ', ' ', ' ', 'T'],\n",
    "                 [' ', ' ', ' ', ' ', ' ', ' ', '-', ' '],\n",
    "                 [' ', ' ', '-', '-', ' ', ' ', ' ', 'A'],\n",
    "                 [' ', 'A', 'A', ' ', ' ', ' ', ' ', 'A'],\n",
    "                 [' ', ' ', ' ', 'A', '-', ' ', '|', ' '],\n",
    "                 [' ', ' ', ' ', ' ', '|', ' ', ' ', ' '],\n",
    "                 ['|', ' ', ' ', ' ', ' ', ' ', ' ', ' '],\n",
    "                 ['S', ' ', ' ', ' ', '-', 'A', 'A', ' ']]\n",
    "        rows = cols = len(new_grid)\n",
    "   \n",
    "    elif key ==2:\n",
    "        new_grid = [[' ', ' ', '|', '-', ' ', 'T'],\n",
    "                 [' ', ' ', ' ', ' ', ' ', ' '],\n",
    "                 [' ', ' ', '|', ' ', ' ', '-'],\n",
    "                 [' ', ' ', 'A', '-', '-', ' '],\n",
    "                 [' ', ' ', ' ', ' ', ' ', ' '],\n",
    "                 ['S', ' ', ' ', '|', ' ', 'A']]\n",
    "        rows = cols = len(new_grid)\n",
    "    elif key ==3:\n",
    "        new_grid = [[' ', ' ', 'A', 'T'],\n",
    "                 ['A', '|', 'A', ' '],\n",
    "                 ['|', ' ', ' ', ' '],\n",
    "                 ['S', '-', ' ', '|']]\n",
    "        rows = cols = len(new_grid)\n",
    "    \n",
    "    else:\n",
    "        new_grid = [['A', ' ', ' ', 'A', 'T'],\n",
    "                 ['|', ' ', ' ', ' ', '-'],\n",
    "                 ['A', '-', ' ', ' ', ' '],\n",
    "                 ['|', ' ', ' ', ' ', ' '],\n",
    "                 ['S', ' ', ' ', ' ', ' ']]\n",
    "        rows = cols = len(new_grid)"
   ]
  },
  {
   "cell_type": "code",
   "execution_count": null,
   "id": "1a1a5eb5",
   "metadata": {},
   "outputs": [],
   "source": [
    "def costReturner(state):     # cost returner based on state \n",
    "    if state == ' ':\n",
    "        if test.lower() == 't':\n",
    "            return -1            # hard coded costs for test cases\n",
    "        return random.choice([-1,-2,-3])   \n",
    "        \n",
    "    if state == '-':\n",
    "        if test.lower() == 't':\n",
    "            return -2\n",
    "        return random.choice([-2,-3,-4])\n",
    "        \n",
    "    if state == 'A':\n",
    "        prob = random.choice([0.8,0.2])\n",
    "        if test.lower() == 't':    \n",
    "            return -3\n",
    "        if prob == 0.8:\n",
    "            return random.choice([-2,-3,-4])\n",
    "        else:\n",
    "            return random.choice([-1,-2,-3])\n",
    "    else:\n",
    "        return -1   "
   ]
  },
  {
   "cell_type": "code",
   "execution_count": null,
   "id": "a1692267",
   "metadata": {},
   "outputs": [],
   "source": [
    "def heuristicReturner(node):\n",
    "    print(node)\n",
    "    return abs(0-node[0])+abs((cols-1)-node[1])"
   ]
  },
  {
   "cell_type": "code",
   "execution_count": null,
   "id": "b0c0b2f2",
   "metadata": {},
   "outputs": [],
   "source": [
    "edges = {}"
   ]
  },
  {
   "cell_type": "code",
   "execution_count": null,
   "id": "549c5c0c",
   "metadata": {},
   "outputs": [],
   "source": [
    "def add_edges(root,neighbour):\n",
    "    if root not in edges:\n",
    "        edges[root] = []     # make a key\n",
    "    cost = costReturner(new_grid[neighbour[0]][neighbour[1]])  # get cost on basis of character at that index\n",
    "    if choice == 1:    \n",
    "        cost-=heuristicReturner(neighbour)   # comment this line for ucs else it is heuristc\n",
    "    edges[root].append((neighbour,cost))  # add index and cost in adjacency list\n",
    "    "
   ]
  },
  {
   "cell_type": "code",
   "execution_count": null,
   "id": "b36921ce",
   "metadata": {},
   "outputs": [],
   "source": [
    "for i in range(rows):\n",
    "    for j in range(cols):\n",
    "        if i != rows-1:      #if not a last row, then row+1,col is neighbour\n",
    "            add_edges((i,j),(i+1,j))\n",
    "        if j != cols-1:     #if not a last column, then row,col+1 is neighbour\n",
    "            add_edges((i,j),(i,j+1))\n",
    "        if i != 0:          #if not first row, then row-1,col is neighbour\n",
    "            add_edges((i,j),(i-1,j))\n",
    "        if j!=0:           #if not first column, then row,col-1 is neighbour\n",
    "            add_edges((i,j),(i,j-1))\n",
    "edges"
   ]
  },
  {
   "cell_type": "code",
   "execution_count": null,
   "id": "4682b841",
   "metadata": {},
   "outputs": [],
   "source": [
    "def sortQueue(queue):         #sorting the queue on basis of last item \n",
    "    return sorted(queue, key=lambda x: x[-1])"
   ]
  },
  {
   "cell_type": "code",
   "execution_count": null,
   "id": "33fa798d",
   "metadata": {},
   "outputs": [],
   "source": [
    "def showPosition(path):\n",
    "    print(\"+\", \"-\" * (cols * 4 + 1), \"+\")  # complementary boundry of grid\n",
    "\n",
    "    for i in range(rows):\n",
    "        print(\"|\", end=\"\")       # boundary of cells\n",
    "        for j in range(cols):\n",
    "            if i == path[0] and j == path[1]:\n",
    "                print(\" o_o \", end=\" ||\")   # current position based on queue\n",
    "            else:\n",
    "                print(\"\\\"\", new_grid[i][j], \"\\\"\", end=\" ||\") # else print the original value\n",
    "        print(\"\\n\")\n",
    "        print(\"- - \"*rows*2)\n",
    "\n",
    "    print(\"+\", \"-\" * (cols * 4 + 1), \"+\")\n"
   ]
  },
  {
   "cell_type": "code",
   "execution_count": null,
   "id": "b6dc61b0",
   "metadata": {},
   "outputs": [],
   "source": [
    "def ucs(start,goal):\n",
    "    visited = set()    # to avoid redundancy of cells\n",
    "    queue = []\n",
    "    queue.append(([start],0))   # appending starting node and cost till now\n",
    "    \n",
    "    while len(queue) !=0:\n",
    "        path,cost = queue.pop()  # getting last tupple \n",
    "        print(path)\n",
    "        node = path[-1]          # getting the last index that was visited\n",
    "        print(cost,\"original?\")\n",
    "        heuristic = 0\n",
    "        print(\"is queue \",queue)\n",
    "        \n",
    "        if choice == 1:\n",
    "            heuristic= heuristicReturner(node)    # comment this for ucs\n",
    "        \n",
    "        if len(visited)!=0:\n",
    "            cost= cost+heuristic\n",
    "        print(cost)\n",
    "        showPosition(node)       \n",
    "        \n",
    "        if node == goal:        # if reached goal return the cost and path\n",
    "            return cost,path\n",
    "        \n",
    "        if new_grid[node[0]][node[1]] =='|' and len(path)>2:   # if wall encountered, remove recent 2 indices i.e. move 2 steps backward\n",
    "            print(\"End Point ahead. Moving 2 steps back\")  # indices are appended so will be last 2\n",
    "            queue.append((path[:-2],(cost+heuristicReturner(path[-2]))-1))\n",
    "            queue = sortQueue(queue)       # sort the queue elements on basis of their cost  \n",
    "            continue\n",
    "        \n",
    "        elif new_grid[node[0]][node[1]] =='|' and len(path)>1:            # incase there is wall 1 step after start\n",
    "            print(\"End Point ahead. Moving 1 step back\")                  # indices are appended so will be last 1\n",
    "            queue.append(([path[0]],(cost-heuristicReturner(path[-1]))-1))\n",
    "            queue = sortQueue(queue)       # sort the queue elements on basis of their cost  \n",
    "            continue\n",
    "        \n",
    "        if node not in visited:     # else, put the index in visited set\n",
    "            visited.add(node)\n",
    "            \n",
    "            for neighbour , costOfEdge in edges[node]:   # iterate over its neighbours in adjacency list\n",
    "                if neighbour not in visited:   \n",
    "                    new_cost = costOfEdge + cost         # add the cost of neighbour and what previously traveled\n",
    "                    queue.append((path+[neighbour],new_cost))  # and append in queue\n",
    "            queue = sortQueue(queue)   # again sort the queue\n"
   ]
  },
  {
   "cell_type": "code",
   "execution_count": null,
   "id": "34b48acc",
   "metadata": {},
   "outputs": [],
   "source": [
    "print(\" - - Order Of Traversal - -\")\n",
    "cost,path = ucs((rows-1,0),(0,cols-1))\n",
    "print(\"Cost :\",cost)\n",
    "print(\"Path :\")\n",
    "for i in path:\n",
    "    print(i,end=\" -->\")"
   ]
  },
  {
   "cell_type": "code",
   "execution_count": null,
   "id": "d89a804e",
   "metadata": {},
   "outputs": [],
   "source": [
    "print(\" - -Final Actual Path Denoted By \\\"*\\\" - -\")\n",
    "\n",
    "print(\"+\", \"-\" * (cols * 4 + 1), \"+\")\n",
    "\n",
    "for i in range(rows):\n",
    "    print(\"|\", end=\"\")\n",
    "    \n",
    "    for j in range(cols):\n",
    "        flag = False\n",
    "        for k in path:\n",
    "             if i==k[0] and j==k[1]:       # searching the path indices and placing steric at places\n",
    "                print(\"\\\" * \\\"\",end=\" ||\")\n",
    "                flag = True\n",
    "        if flag:\n",
    "            continue\n",
    "        \n",
    "        print(\"\\\"\", new_grid[i][j], \"\\\"\", end=\" ||\") \n",
    "    print(\"\\n\")\n",
    "    print(\"- - \"*rows*2)\n",
    "\n",
    "print(\"+\", \"-\" * (cols * 4 + 1), \"+\")\n"
   ]
  },
  {
   "cell_type": "code",
   "execution_count": null,
   "id": "11ed45c2",
   "metadata": {},
   "outputs": [],
   "source": [
    "print(\"Cost Is \",cost)\n",
    "print(\"Path Is \",path)"
   ]
  },
  {
   "cell_type": "code",
   "execution_count": null,
   "id": "bf718eff",
   "metadata": {},
   "outputs": [],
   "source": [
    "import numpy as np\n",
    "import matplotlib.pyplot as plt\n",
    "from matplotlib.offsetbox import OffsetImage, AnnotationBbox\n",
    "\n",
    "def plot_grid_with_path(grid, path):\n",
    "    fig, ax = plt.subplots()\n",
    "\n",
    "    # Load and display the background image\n",
    "    background_img = plt.imread(r\"background.jpg\")\n",
    "    ax.imshow(background_img, extent=[-0.5, len(grid[0])-0.5, -0.5, len(grid)-0.5])\n",
    "\n",
    "    # Set grid lines\n",
    "    ax.set_xticks(np.arange(-0.5, len(grid[0]), 1), minor=True)\n",
    "    ax.set_yticks(np.arange(-0.5, len(grid), 1), minor=True)\n",
    "    ax.grid(which='minor', color='black', linestyle='-', linewidth=2)\n",
    "\n",
    "    for i in range(len(grid)):\n",
    "        for j in range(len(grid[0])):\n",
    "            if grid[i][j] == 'S':\n",
    "                img = plt.imread(r'man.jpg')\n",
    "                imagebox = OffsetImage(img, zoom=0.15)\n",
    "                ab = AnnotationBbox(imagebox, (j, len(grid) - i - 1), frameon=False)\n",
    "                ax.add_artist(ab)                \n",
    "            if grid[i][j] == '-':\n",
    "                ax.add_patch(plt.Rectangle((j - 0.5, len(grid) - i - 1 - 0.5), 1, 1, facecolor='gray'))  # for obstacle\n",
    "            elif grid[i][j] == '|':\n",
    "                ax.add_patch(plt.Rectangle((j - 0.5, len(grid) - i - 1 - 0.5), 1, 1, facecolor='brown')) # for wall\n",
    "            elif grid[i][j] == 'A':\n",
    "                img = plt.imread(r'tiger.jpg')\n",
    "                imagebox = OffsetImage(img, zoom=0.13)\n",
    "                ab = AnnotationBbox(imagebox, (j, len(grid) - i - 1), frameon=False)\n",
    "                ax.add_artist(ab)\n",
    "            elif grid[i][j] == 'T':\n",
    "                img = plt.imread(r'treasure.jpg')\n",
    "                imagebox = OffsetImage(img, zoom=0.15)\n",
    "                ab = AnnotationBbox(imagebox, (j, len(grid) - i - 1), frameon=False)\n",
    "                ax.add_artist(ab)\n",
    "\n",
    "    for i in range(len(path) - 1):\n",
    "        ax.plot([path[i][1], path[i + 1][1]], [len(grid) - path[i][0] - 1, len(grid) - path[i + 1][0] - 1], color='red')\n",
    "\n",
    "    plt.xlim(-0.5, len(grid[0]) - 0.5)\n",
    "    plt.ylim(-0.5, len(grid) - 0.5)\n",
    "    plt.gca().invert_yaxis()\n",
    "    plt.grid()\n",
    "    plt.show()\n",
    "\n",
    "# Example grid and path\n",
    "plot_grid_with_path(new_grid, path)\n"
   ]
  },
  {
   "cell_type": "code",
   "execution_count": null,
   "id": "51dc6667",
   "metadata": {},
   "outputs": [],
   "source": [
    "    "
   ]
  }
 ],
 "metadata": {
  "kernelspec": {
   "display_name": "Python 3 (ipykernel)",
   "language": "python",
   "name": "python3"
  },
  "language_info": {
   "codemirror_mode": {
    "name": "ipython",
    "version": 3
   },
   "file_extension": ".py",
   "mimetype": "text/x-python",
   "name": "python",
   "nbconvert_exporter": "python",
   "pygments_lexer": "ipython3",
   "version": "3.11.4"
  }
 },
 "nbformat": 4,
 "nbformat_minor": 5
}
